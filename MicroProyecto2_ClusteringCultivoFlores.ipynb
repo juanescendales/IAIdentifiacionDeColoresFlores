{
  "nbformat": 4,
  "nbformat_minor": 0,
  "metadata": {
    "colab": {
      "name": "MicroProyecto2_ClusteringCultivoFlores.ipynb",
      "provenance": [],
      "collapsed_sections": [],
      "toc_visible": true,
      "include_colab_link": true
    },
    "kernelspec": {
      "name": "python3",
      "display_name": "Python 3"
    }
  },
  "cells": [
    {
      "cell_type": "markdown",
      "metadata": {
        "id": "view-in-github",
        "colab_type": "text"
      },
      "source": [
        "<a href=\"https://colab.research.google.com/github/juanescendales/IAIdentifiacionDeColoresFlores/blob/master/MicroProyecto2_ClusteringCultivoFlores.ipynb\" target=\"_parent\"><img src=\"https://colab.research.google.com/assets/colab-badge.svg\" alt=\"Open In Colab\"/></a>"
      ]
    },
    {
      "cell_type": "markdown",
      "metadata": {
        "id": "CeX2cnLQYmwW",
        "colab_type": "text"
      },
      "source": [
        "# Identificación de color en imágenes de cultivos de flores\n"
      ]
    },
    {
      "cell_type": "markdown",
      "metadata": {
        "id": "YkOQ2xLbY8As",
        "colab_type": "text"
      },
      "source": [
        "Se quiere determinar por medio de clustering los tipos de cultivos flores visibles e\n",
        "indicar el porcentaje cultivado, realizando la mayor caracterización de los datos posible. Esto con un data-set de dos imagenes\n",
        "\n"
      ]
    },
    {
      "cell_type": "markdown",
      "metadata": {
        "id": "0QsIg3ucZN8R",
        "colab_type": "text"
      },
      "source": [
        "# Preprocesamiento de los datos"
      ]
    },
    {
      "cell_type": "code",
      "metadata": {
        "id": "AfXcMX2YYVKY",
        "colab_type": "code",
        "colab": {}
      },
      "source": [
        ""
      ],
      "execution_count": 0,
      "outputs": []
    }
  ]
}